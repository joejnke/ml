{
 "cells": [
  {
   "cell_type": "code",
   "execution_count": 1,
   "metadata": {
    "collapsed": true
   },
   "outputs": [],
   "source": [
    "class log_model():\n",
    "    def __init__(self, x, num_classes):\n",
    "        self.weights = np.zeros((x.shape[1],num_classes))\n",
    "        self.biases = np.zeros((num_classes,1))\n",
    "    \n",
    "    \n",
    "    def forward(self, x):\n",
    "        #print(x.shape, self.weights.shape, self.biases.shape)\n",
    "        ret = np.matmul(self.weights.T, x.T) + self.biases \n",
    "        #print(\"forward: \", ret.shape)\n",
    "        return ret \n",
    "    \n",
    "    \n",
    "    def softmax(self, x):\n",
    "        x -= np.max(x)\n",
    "        #print(x.shape)\n",
    "        ret = np.exp(x) / np.sum(np.exp(x))\n",
    "        #print(\"softmax: \", ret.shape)\n",
    "        return ret\n",
    "    \n",
    "    \n",
    "    def loss(self, x, y):\n",
    "        ret = -np.sum(np.multiply(y.T,np.log(x+.001)))\n",
    "        #print(\"loss: \", ret)\n",
    "        return ret\n",
    "    \n",
    "    \n",
    "    def optimize(self, a, x, y):\n",
    "        #print(\"a\",a.shape, \"y\", y.shape)\n",
    "        derivative = np.subtract(a.T, y)\n",
    "        #print(\"der:\",derivative.shape)\n",
    "        #print(np.dot(x.T,derivative), np.dot(x.T,derivative).shape)\n",
    "        dw = np.subtract(self.weights, np.dot(x.T,derivative))\n",
    "        #print(\"sum\",np.sum(derivative, axis=0), np.sum(derivative, axis=0).shape)\n",
    "        db = np.subtract(self.biases, np.sum(derivative, axis=0).reshape(-1,1))\n",
    "        #print(\"dw:\\n \", dw)\n",
    "        #print(\"db: \\n\", db)\n",
    "        \n",
    "        return dw, db \n",
    "  \n",
    "\n",
    "    def update(self,lr, dw, db):\n",
    "        self.weights -= lr*dw\n",
    "        self.biases -= lr*db\n",
    "        #print(\"updated w: \\n\", self.weights)\n",
    "        #print(\"updated b: \\n\", self.biases)\n",
    "        "
   ]
  },
  {
   "cell_type": "code",
   "execution_count": 2,
   "metadata": {
    "collapsed": true
   },
   "outputs": [],
   "source": [
    "#loading the images\n",
    "from PIL import Image\n",
    "import glob\n",
    "import numpy as np\n",
    "path = 'un_resized_images/fidels'"
   ]
  },
  {
   "cell_type": "code",
   "execution_count": 3,
   "metadata": {},
   "outputs": [
    {
     "data": {
      "text/plain": [
       "['un_resized_images/fidels/06/ለ49.jpg',\n",
       " 'un_resized_images/fidels/06/72.jpg',\n",
       " 'un_resized_images/fidels/06/ለ55.jpg',\n",
       " 'un_resized_images/fidels/06/ለ54.jpg',\n",
       " 'un_resized_images/fidels/06/ለ51.jpg',\n",
       " 'un_resized_images/fidels/06/71.jpg',\n",
       " 'un_resized_images/fidels/06/65.jpg',\n",
       " 'un_resized_images/fidels/06/70.jpg',\n",
       " 'un_resized_images/fidels/06/ለ50.jpg',\n",
       " 'un_resized_images/fidels/06/ሎ225adf.jpg',\n",
       " 'un_resized_images/fidels/06/66.jpg',\n",
       " 'un_resized_images/fidels/06/68.jpg',\n",
       " 'un_resized_images/fidels/06/64.jpg',\n",
       " 'un_resized_images/fidels/06/ሎ226adf.jpg',\n",
       " 'un_resized_images/fidels/06/ሎ231adf.jpg',\n",
       " 'un_resized_images/fidels/06/67.jpg',\n",
       " 'un_resized_images/fidels/06/ሎ227adf.jpg',\n",
       " 'un_resized_images/fidels/06/ሎ230adf.jpg',\n",
       " 'un_resized_images/fidels/06/ለ53.jpg',\n",
       " 'un_resized_images/fidels/06/63.jpg',\n",
       " 'un_resized_images/fidels/06/ሎ229adf.jpg',\n",
       " 'un_resized_images/fidels/06/62.jpg',\n",
       " 'un_resized_images/fidels/06/ሎ232adf.jpg',\n",
       " 'un_resized_images/fidels/06/ለ52.jpg',\n",
       " 'un_resized_images/fidels/06/ሎ228adf.jpg',\n",
       " 'un_resized_images/fidels/06/ለ48.jpg',\n",
       " 'un_resized_images/fidels/06/69.jpg',\n",
       " 'un_resized_images/fidels/04/ሌ214adf.jpg',\n",
       " 'un_resized_images/fidels/04/47.jpg',\n",
       " 'un_resized_images/fidels/04/39.jpg',\n",
       " 'un_resized_images/fidels/04/40.jpg',\n",
       " 'un_resized_images/fidels/04/ለ37.jpg',\n",
       " 'un_resized_images/fidels/04/45.jpg',\n",
       " 'un_resized_images/fidels/04/ለ40.jpg',\n",
       " 'un_resized_images/fidels/04/43.jpg',\n",
       " 'un_resized_images/fidels/04/ሌ213adf.jpg',\n",
       " 'un_resized_images/fidels/04/ሌ215adf.jpg',\n",
       " 'un_resized_images/fidels/04/48.jpg',\n",
       " 'un_resized_images/fidels/04/49.jpg',\n",
       " 'un_resized_images/fidels/04/ለ34.jpg',\n",
       " 'un_resized_images/fidels/04/ሌ217adf.jpg',\n",
       " 'un_resized_images/fidels/04/ለ35.jpg',\n",
       " 'un_resized_images/fidels/04/44.jpg',\n",
       " 'un_resized_images/fidels/04/ሌ216adf.jpg',\n",
       " 'un_resized_images/fidels/04/ሌ211adf.jpg',\n",
       " 'un_resized_images/fidels/04/ለ39.jpg',\n",
       " 'un_resized_images/fidels/04/ሌ212adf.jpg',\n",
       " 'un_resized_images/fidels/04/ለ36.jpg',\n",
       " 'un_resized_images/fidels/04/38.jpg',\n",
       " 'un_resized_images/fidels/04/46.jpg',\n",
       " 'un_resized_images/fidels/04/41.jpg',\n",
       " 'un_resized_images/fidels/04/42.jpg',\n",
       " 'un_resized_images/fidels/04/37.jpg',\n",
       " 'un_resized_images/fidels/04/ለ38.jpg',\n",
       " 'un_resized_images/fidels/08/83.jpg',\n",
       " 'un_resized_images/fidels/08/ለ74.jpg',\n",
       " 'un_resized_images/fidels/08/ሙ247sadf.jpg',\n",
       " 'un_resized_images/fidels/08/ለ73.jpg',\n",
       " 'un_resized_images/fidels/08/11.jpg',\n",
       " 'un_resized_images/fidels/08/ሙ241sadf.jpg',\n",
       " 'un_resized_images/fidels/08/ሙ245sadf.jpg',\n",
       " 'un_resized_images/fidels/08/ለ71.jpg',\n",
       " 'un_resized_images/fidels/08/ለ72.jpg',\n",
       " 'un_resized_images/fidels/08/ሙ248sadf.jpg',\n",
       " 'un_resized_images/fidels/08/84.jpg',\n",
       " 'un_resized_images/fidels/08/ለ70.jpg',\n",
       " 'un_resized_images/fidels/08/ሙ251sadf.jpg',\n",
       " 'un_resized_images/fidels/08/87.jpg',\n",
       " 'un_resized_images/fidels/08/ሙ243sadf.jpg',\n",
       " 'un_resized_images/fidels/08/ለ69.jpg',\n",
       " 'un_resized_images/fidels/08/ሙ246sadf.jpg',\n",
       " 'un_resized_images/fidels/08/123.jpg',\n",
       " 'un_resized_images/fidels/08/86.jpg',\n",
       " 'un_resized_images/fidels/08/85.jpg',\n",
       " 'un_resized_images/fidels/08/ሙ250sadf.jpg',\n",
       " 'un_resized_images/fidels/08/88.jpg',\n",
       " 'un_resized_images/fidels/08/ሙ242sadf.jpg',\n",
       " 'un_resized_images/fidels/08/ለ67.jpg',\n",
       " 'un_resized_images/fidels/08/ለ68.jpg',\n",
       " 'un_resized_images/fidels/08/82.jpg',\n",
       " 'un_resized_images/fidels/08/ለ66.jpg',\n",
       " 'un_resized_images/fidels/08/ሙ244sadf.jpg',\n",
       " 'un_resized_images/fidels/08/ሙ249sadf.jpg',\n",
       " 'un_resized_images/fidels/05/ለ41.jpg',\n",
       " 'un_resized_images/fidels/05/ል223adf.jpg',\n",
       " 'un_resized_images/fidels/05/ለ42.jpg',\n",
       " 'un_resized_images/fidels/05/57.jpg',\n",
       " 'un_resized_images/fidels/05/ለ47.jpg',\n",
       " 'un_resized_images/fidels/05/ል219adf.jpg',\n",
       " 'un_resized_images/fidels/05/60.jpg',\n",
       " 'un_resized_images/fidels/05/ል220adf.jpg',\n",
       " 'un_resized_images/fidels/05/ለ44.jpg',\n",
       " 'un_resized_images/fidels/05/54.jpg',\n",
       " 'un_resized_images/fidels/05/ል224adf.jpg',\n",
       " 'un_resized_images/fidels/05/ለ46.jpg',\n",
       " 'un_resized_images/fidels/05/51.jpg',\n",
       " 'un_resized_images/fidels/05/53.jpg',\n",
       " 'un_resized_images/fidels/05/61.jpg',\n",
       " 'un_resized_images/fidels/05/ለ43.jpg',\n",
       " 'un_resized_images/fidels/05/56.jpg',\n",
       " 'un_resized_images/fidels/05/52.jpg',\n",
       " 'un_resized_images/fidels/05/55.jpg',\n",
       " 'un_resized_images/fidels/05/58.jpg',\n",
       " 'un_resized_images/fidels/05/ል218adf.jpg',\n",
       " 'un_resized_images/fidels/05/ል222adf.jpg',\n",
       " 'un_resized_images/fidels/05/ል221adf.jpg',\n",
       " 'un_resized_images/fidels/05/ለ45.jpg',\n",
       " 'un_resized_images/fidels/05/50.jpg',\n",
       " 'un_resized_images/fidels/05/59.jpg',\n",
       " 'un_resized_images/fidels/07/ለ63.jpg',\n",
       " 'un_resized_images/fidels/07/73.jpg',\n",
       " 'un_resized_images/fidels/07/75.jpg',\n",
       " 'un_resized_images/fidels/07/79.jpg',\n",
       " 'un_resized_images/fidels/07/80.jpg',\n",
       " 'un_resized_images/fidels/07/ለ58.jpg',\n",
       " 'un_resized_images/fidels/07/76.jpg',\n",
       " 'un_resized_images/fidels/07/ለ61.jpg',\n",
       " 'un_resized_images/fidels/07/ለ62.jpg',\n",
       " 'un_resized_images/fidels/07/መ237sadf.jpg',\n",
       " 'un_resized_images/fidels/07/መ234sadf.jpg',\n",
       " 'un_resized_images/fidels/07/ለ60.jpg',\n",
       " 'un_resized_images/fidels/07/ለ64.jpg',\n",
       " 'un_resized_images/fidels/07/መ233sadf.jpg',\n",
       " 'un_resized_images/fidels/07/ለ56.jpg',\n",
       " 'un_resized_images/fidels/07/74.jpg',\n",
       " 'un_resized_images/fidels/07/መ239sadf.jpg',\n",
       " 'un_resized_images/fidels/07/መ235sadf.jpg',\n",
       " 'un_resized_images/fidels/07/መ236sadf.jpg',\n",
       " 'un_resized_images/fidels/07/77.jpg',\n",
       " 'un_resized_images/fidels/07/መ240sadf.jpg',\n",
       " 'un_resized_images/fidels/07/78.jpg',\n",
       " 'un_resized_images/fidels/07/81.jpg',\n",
       " 'un_resized_images/fidels/07/ለ59.jpg',\n",
       " 'un_resized_images/fidels/07/መ238sadf.jpg',\n",
       " 'un_resized_images/fidels/07/ለ57.jpg',\n",
       " 'un_resized_images/fidels/07/ለ65.jpg',\n",
       " 'un_resized_images/fidels/12/ም287sadf.jpg',\n",
       " 'un_resized_images/fidels/12/ለ123.jpg',\n",
       " 'un_resized_images/fidels/12/ም288sadf.jpg',\n",
       " 'un_resized_images/fidels/12/ለ113.jpg',\n",
       " 'un_resized_images/fidels/12/ለ115.jpg',\n",
       " 'un_resized_images/fidels/12/ም282sadf.jpg',\n",
       " 'un_resized_images/fidels/12/ለ125.jpg',\n",
       " 'un_resized_images/fidels/12/ለ124.jpg',\n",
       " 'un_resized_images/fidels/12/ለ119.jpg',\n",
       " 'un_resized_images/fidels/12/ለ116.jpg',\n",
       " 'un_resized_images/fidels/12/ም280sadf.jpg',\n",
       " 'un_resized_images/fidels/12/ለ117.jpg',\n",
       " 'un_resized_images/fidels/12/ም286sadf.jpg',\n",
       " 'un_resized_images/fidels/12/ም281sadf.jpg',\n",
       " 'un_resized_images/fidels/12/110.jpg',\n",
       " 'un_resized_images/fidels/12/ለ111.jpg',\n",
       " 'un_resized_images/fidels/12/108.jpg',\n",
       " 'un_resized_images/fidels/12/ለ112.jpg',\n",
       " 'un_resized_images/fidels/12/ለ121.jpg',\n",
       " 'un_resized_images/fidels/12/109.jpg',\n",
       " 'un_resized_images/fidels/12/ም283sadf.jpg',\n",
       " 'un_resized_images/fidels/12/ም279sadf.jpg',\n",
       " 'un_resized_images/fidels/12/ም285sadf.jpg',\n",
       " 'un_resized_images/fidels/12/ለ122.jpg',\n",
       " 'un_resized_images/fidels/12/ለ118.jpg',\n",
       " 'un_resized_images/fidels/12/ም284sadf.jpg',\n",
       " 'un_resized_images/fidels/12/ለ126.jpg',\n",
       " 'un_resized_images/fidels/12/ም289sadf.jpg',\n",
       " 'un_resized_images/fidels/12/ለ120.jpg',\n",
       " 'un_resized_images/fidels/12/111.jpg',\n",
       " 'un_resized_images/fidels/12/ለ114.jpg',\n",
       " 'un_resized_images/fidels/02/ለ17.jpg',\n",
       " 'un_resized_images/fidels/02/ለ23.jpg',\n",
       " 'un_resized_images/fidels/02/ሊ191adf.jpg',\n",
       " 'un_resized_images/fidels/02/ሊ192adf.jpg',\n",
       " 'un_resized_images/fidels/02/ሊ197adf.jpg',\n",
       " 'un_resized_images/fidels/02/ለ20.jpg',\n",
       " 'un_resized_images/fidels/02/ሊ194adf.jpg',\n",
       " 'un_resized_images/fidels/02/20.jpg',\n",
       " 'un_resized_images/fidels/02/ለ16.jpg',\n",
       " 'un_resized_images/fidels/02/ለ22.jpg',\n",
       " 'un_resized_images/fidels/02/ሊ189adf.jpg',\n",
       " 'un_resized_images/fidels/02/ለ24.jpg',\n",
       " 'un_resized_images/fidels/02/17.jpg',\n",
       " 'un_resized_images/fidels/02/ሊ196adf.jpg',\n",
       " 'un_resized_images/fidels/02/ሊ193adf.jpg',\n",
       " 'un_resized_images/fidels/02/ለ21.jpg',\n",
       " 'un_resized_images/fidels/02/21.jpg',\n",
       " 'un_resized_images/fidels/02/19.jpg',\n",
       " 'un_resized_images/fidels/02/ሊ195adf.jpg',\n",
       " 'un_resized_images/fidels/02/15.jpg',\n",
       " 'un_resized_images/fidels/02/16.jpg',\n",
       " 'un_resized_images/fidels/02/ለ18.jpg',\n",
       " 'un_resized_images/fidels/02/ለ19.jpg',\n",
       " 'un_resized_images/fidels/02/18.jpg',\n",
       " 'un_resized_images/fidels/02/ሊ190adf.jpg',\n",
       " 'un_resized_images/fidels/02/22.jpg',\n",
       " 'un_resized_images/fidels/10/101.jpg',\n",
       " 'un_resized_images/fidels/10/ማ266sadf.jpg',\n",
       " 'un_resized_images/fidels/10/98.jpg',\n",
       " 'un_resized_images/fidels/10/ማ260sadf.jpg',\n",
       " 'un_resized_images/fidels/10/102.jpg',\n",
       " 'un_resized_images/fidels/10/ማ264sadf.jpg',\n",
       " 'un_resized_images/fidels/10/ማ265sadf.jpg',\n",
       " 'un_resized_images/fidels/10/ማ261sadf.jpg',\n",
       " 'un_resized_images/fidels/10/ማ263sadf.jpg',\n",
       " 'un_resized_images/fidels/10/ለ89.jpg',\n",
       " 'un_resized_images/fidels/10/97.jpg',\n",
       " 'un_resized_images/fidels/10/ለ90.jpg',\n",
       " 'un_resized_images/fidels/10/ለ95.jpg',\n",
       " 'un_resized_images/fidels/10/ማ267sadf.jpg',\n",
       " 'un_resized_images/fidels/10/ማ259sadf.jpg',\n",
       " 'un_resized_images/fidels/10/ለ91.jpg',\n",
       " 'un_resized_images/fidels/10/ለ93.jpg',\n",
       " 'un_resized_images/fidels/10/ማ268sadf.jpg',\n",
       " 'un_resized_images/fidels/10/100.jpg',\n",
       " 'un_resized_images/fidels/10/ማ269sadf.jpg',\n",
       " 'un_resized_images/fidels/10/ለ94.jpg',\n",
       " 'un_resized_images/fidels/10/ማ262sadf.jpg',\n",
       " 'un_resized_images/fidels/10/99.jpg',\n",
       " 'un_resized_images/fidels/10/ለ92.jpg',\n",
       " 'un_resized_images/fidels/09/ሚ257sadf.jpg',\n",
       " 'un_resized_images/fidels/09/ለ76.jpg',\n",
       " 'un_resized_images/fidels/09/ለ83.jpg',\n",
       " 'un_resized_images/fidels/09/93.jpg',\n",
       " 'un_resized_images/fidels/09/89.jpg',\n",
       " 'un_resized_images/fidels/09/ለ78.jpg',\n",
       " 'un_resized_images/fidels/09/96.jpg',\n",
       " 'un_resized_images/fidels/09/ሚ253sadf.jpg',\n",
       " 'un_resized_images/fidels/09/ለ79.jpg',\n",
       " 'un_resized_images/fidels/09/ለ77.jpg',\n",
       " 'un_resized_images/fidels/09/94.jpg',\n",
       " 'un_resized_images/fidels/09/ለ86.jpg',\n",
       " 'un_resized_images/fidels/09/90.jpg',\n",
       " 'un_resized_images/fidels/09/ሚ258sadf.jpg',\n",
       " 'un_resized_images/fidels/09/ለ85.jpg',\n",
       " 'un_resized_images/fidels/09/ለ87.jpg',\n",
       " 'un_resized_images/fidels/09/ሚ254sadf.jpg',\n",
       " 'un_resized_images/fidels/09/ለ82.jpg',\n",
       " 'un_resized_images/fidels/09/ሚ255sadf.jpg',\n",
       " 'un_resized_images/fidels/09/ሚ252sadf.jpg',\n",
       " 'un_resized_images/fidels/09/ሚ256sadf.jpg',\n",
       " 'un_resized_images/fidels/09/ለ75.jpg',\n",
       " 'un_resized_images/fidels/09/ለ84.jpg',\n",
       " 'un_resized_images/fidels/09/ለ81.jpg',\n",
       " 'un_resized_images/fidels/09/95.jpg',\n",
       " 'un_resized_images/fidels/09/ለ80.jpg',\n",
       " 'un_resized_images/fidels/09/92.jpg',\n",
       " 'un_resized_images/fidels/09/ለ88.jpg',\n",
       " 'un_resized_images/fidels/09/91.jpg',\n",
       " 'un_resized_images/fidels/03/ለ32.jpg',\n",
       " 'un_resized_images/fidels/03/ላ200adf.jpg',\n",
       " 'un_resized_images/fidels/03/ላ204adf.jpg',\n",
       " 'un_resized_images/fidels/03/ላ209adf.jpg',\n",
       " 'un_resized_images/fidels/03/29.jpg',\n",
       " 'un_resized_images/fidels/03/ላ205adf.jpg',\n",
       " 'un_resized_images/fidels/03/ላ202adf.jpg',\n",
       " 'un_resized_images/fidels/03/34.jpg',\n",
       " 'un_resized_images/fidels/03/ለ26.jpg',\n",
       " 'un_resized_images/fidels/03/26.jpg',\n",
       " 'un_resized_images/fidels/03/ላ206adf.jpg',\n",
       " 'un_resized_images/fidels/03/ላ199adf.jpg',\n",
       " 'un_resized_images/fidels/03/ለ27.jpg',\n",
       " 'un_resized_images/fidels/03/ላ198adf.jpg',\n",
       " 'un_resized_images/fidels/03/28.jpg',\n",
       " 'un_resized_images/fidels/03/ላ210adf.jpg',\n",
       " 'un_resized_images/fidels/03/ላ207adf.jpg',\n",
       " 'un_resized_images/fidels/03/36.jpg',\n",
       " 'un_resized_images/fidels/03/ለ33.jpg',\n",
       " 'un_resized_images/fidels/03/ለ30.jpg',\n",
       " 'un_resized_images/fidels/03/30.jpg',\n",
       " 'un_resized_images/fidels/03/ላ203adf.jpg',\n",
       " 'un_resized_images/fidels/03/ላ201adf.jpg',\n",
       " 'un_resized_images/fidels/03/32.jpg',\n",
       " 'un_resized_images/fidels/03/23.jpg',\n",
       " 'un_resized_images/fidels/03/ለ28.jpg',\n",
       " 'un_resized_images/fidels/03/24.jpg',\n",
       " 'un_resized_images/fidels/03/25.jpg',\n",
       " 'un_resized_images/fidels/03/27.jpg',\n",
       " 'un_resized_images/fidels/03/ላ208adf.jpg',\n",
       " 'un_resized_images/fidels/03/31.jpg',\n",
       " 'un_resized_images/fidels/03/33.jpg',\n",
       " 'un_resized_images/fidels/03/ለ29.jpg',\n",
       " 'un_resized_images/fidels/03/35.jpg',\n",
       " 'un_resized_images/fidels/03/ለ25.jpg',\n",
       " 'un_resized_images/fidels/03/ለ31.jpg',\n",
       " 'un_resized_images/fidels/01/ሉ184adf.jpg',\n",
       " 'un_resized_images/fidels/01/10.jpg',\n",
       " 'un_resized_images/fidels/01/13.jpg',\n",
       " 'un_resized_images/fidels/01/ሉ180adf.jpg',\n",
       " 'un_resized_images/fidels/01/ሉ185adf.jpg',\n",
       " 'un_resized_images/fidels/01/ለ8.jpg',\n",
       " 'un_resized_images/fidels/01/09.jpg',\n",
       " 'un_resized_images/fidels/01/ለ9.jpg',\n",
       " 'un_resized_images/fidels/01/ሉ178adf.jpg',\n",
       " 'un_resized_images/fidels/01/14.jpg',\n",
       " 'un_resized_images/fidels/01/06.jpg',\n",
       " 'un_resized_images/fidels/01/ሉ188adf.jpg',\n",
       " 'un_resized_images/fidels/01/ሉ177adf.jpg',\n",
       " 'un_resized_images/fidels/01/ለ11.jpg',\n",
       " 'un_resized_images/fidels/01/ለ13.jpg',\n",
       " 'un_resized_images/fidels/01/ለ14.jpg',\n",
       " 'un_resized_images/fidels/01/12.jpg',\n",
       " 'un_resized_images/fidels/01/ሉ183adf.jpg',\n",
       " 'un_resized_images/fidels/01/08.jpg',\n",
       " 'un_resized_images/fidels/01/ሉ179adf.jpg',\n",
       " 'un_resized_images/fidels/01/07.jpg',\n",
       " 'un_resized_images/fidels/01/ሉ181adf.jpg',\n",
       " 'un_resized_images/fidels/01/ለ10.jpg',\n",
       " 'un_resized_images/fidels/01/ለ12.jpg',\n",
       " 'un_resized_images/fidels/01/ለ15.jpg',\n",
       " 'un_resized_images/fidels/01/ሉ187adf.jpg',\n",
       " 'un_resized_images/fidels/01/ሉ182adf.jpg',\n",
       " 'un_resized_images/fidels/01/ሉ186adf.jpg',\n",
       " 'un_resized_images/fidels/11/104.jpg',\n",
       " 'un_resized_images/fidels/11/ሜ274sadf.jpg',\n",
       " 'un_resized_images/fidels/11/ለ103.jpg',\n",
       " 'un_resized_images/fidels/11/ለ101.jpg',\n",
       " 'un_resized_images/fidels/11/ለ97.jpg',\n",
       " 'un_resized_images/fidels/11/105.jpg',\n",
       " 'un_resized_images/fidels/11/ለ98.jpg',\n",
       " 'un_resized_images/fidels/11/ሜ276sadf.jpg',\n",
       " 'un_resized_images/fidels/11/ሜ273sadf.jpg',\n",
       " 'un_resized_images/fidels/11/103.jpg',\n",
       " 'un_resized_images/fidels/11/ለ108.jpg',\n",
       " 'un_resized_images/fidels/11/106.jpg',\n",
       " 'un_resized_images/fidels/11/ሜ275sadf.jpg',\n",
       " 'un_resized_images/fidels/11/ለ106.jpg',\n",
       " 'un_resized_images/fidels/11/ለ100.jpg',\n",
       " 'un_resized_images/fidels/11/ለ105.jpg',\n",
       " 'un_resized_images/fidels/11/ሜ272sadf.jpg',\n",
       " 'un_resized_images/fidels/11/ለ96.jpg',\n",
       " 'un_resized_images/fidels/11/107.jpg',\n",
       " 'un_resized_images/fidels/11/ለ109.jpg',\n",
       " 'un_resized_images/fidels/11/ለ102.jpg',\n",
       " 'un_resized_images/fidels/11/ለ99.jpg',\n",
       " 'un_resized_images/fidels/11/ለ104.jpg',\n",
       " 'un_resized_images/fidels/11/ለ110.jpg',\n",
       " 'un_resized_images/fidels/11/ሜ278sadf.jpg',\n",
       " 'un_resized_images/fidels/11/ለ107.jpg',\n",
       " 'un_resized_images/fidels/11/ሜ271sadf.jpg',\n",
       " 'un_resized_images/fidels/11/ሜ277sadf.jpg',\n",
       " 'un_resized_images/fidels/11/ሜ270sadf.jpg',\n",
       " 'un_resized_images/fidels/00/ለ175adf.jpg',\n",
       " 'un_resized_images/fidels/00/ለ174adf.jpg',\n",
       " 'un_resized_images/fidels/00/ለ170adf.jpg',\n",
       " 'un_resized_images/fidels/00/ለ172adf.jpg',\n",
       " 'un_resized_images/fidels/00/ለ166adf.jpg',\n",
       " 'un_resized_images/fidels/00/01.jpg',\n",
       " 'un_resized_images/fidels/00/ለ173adf.jpg',\n",
       " 'un_resized_images/fidels/00/ለ165adf.jpg',\n",
       " 'un_resized_images/fidels/00/ለ0.jpg',\n",
       " 'un_resized_images/fidels/00/02.jpg',\n",
       " 'un_resized_images/fidels/00/ለ163adf.jpg',\n",
       " 'un_resized_images/fidels/00/ለ5.jpg',\n",
       " 'un_resized_images/fidels/00/ለ168adf.jpg',\n",
       " 'un_resized_images/fidels/00/ለ171adf.jpg',\n",
       " 'un_resized_images/fidels/00/ለ167adf.jpg',\n",
       " 'un_resized_images/fidels/00/04.jpg',\n",
       " 'un_resized_images/fidels/00/05.jpg',\n",
       " 'un_resized_images/fidels/00/ለ3.jpg',\n",
       " 'un_resized_images/fidels/00/ለ176adf.jpg',\n",
       " 'un_resized_images/fidels/00/ለ4.jpg',\n",
       " 'un_resized_images/fidels/00/ለ7.jpg',\n",
       " 'un_resized_images/fidels/00/03.jpg',\n",
       " 'un_resized_images/fidels/00/ለ164adf.jpg',\n",
       " 'un_resized_images/fidels/00/ለ2.jpg',\n",
       " 'un_resized_images/fidels/00/ለ169adf.jpg',\n",
       " 'un_resized_images/fidels/00/ለ6.jpg',\n",
       " 'un_resized_images/fidels/00/ለ1.jpg',\n",
       " 'un_resized_images/fidels/13/ሞ290sadf.jpg',\n",
       " 'un_resized_images/fidels/13/114.jpg',\n",
       " 'un_resized_images/fidels/13/ሞ296sadf.jpg',\n",
       " 'un_resized_images/fidels/13/ለ128.jpg',\n",
       " 'un_resized_images/fidels/13/ለ142.jpg',\n",
       " 'un_resized_images/fidels/13/ለ141.jpg',\n",
       " 'un_resized_images/fidels/13/122.jpg',\n",
       " 'un_resized_images/fidels/13/ሞ303sadf.jpg',\n",
       " 'un_resized_images/fidels/13/112.jpg',\n",
       " 'un_resized_images/fidels/13/ለ132.jpg',\n",
       " 'un_resized_images/fidels/13/ሞ307sadf.jpg',\n",
       " 'un_resized_images/fidels/13/ለ140.jpg',\n",
       " 'un_resized_images/fidels/13/ሞ297sadf.jpg',\n",
       " 'un_resized_images/fidels/13/116.jpg',\n",
       " 'un_resized_images/fidels/13/ለ135.jpg',\n",
       " 'un_resized_images/fidels/13/ሞ298sadf.jpg',\n",
       " 'un_resized_images/fidels/13/120.jpg',\n",
       " 'un_resized_images/fidels/13/ሞ294sadf.jpg',\n",
       " 'un_resized_images/fidels/13/119.jpg',\n",
       " 'un_resized_images/fidels/13/ለ139.jpg',\n",
       " 'un_resized_images/fidels/13/ሞ301sadf.jpg',\n",
       " 'un_resized_images/fidels/13/ሞ299sadf.jpg',\n",
       " 'un_resized_images/fidels/13/ለ134.jpg',\n",
       " 'un_resized_images/fidels/13/ለ129.jpg',\n",
       " 'un_resized_images/fidels/13/ሞ291sadf.jpg',\n",
       " 'un_resized_images/fidels/13/ለ127.jpg',\n",
       " 'un_resized_images/fidels/13/ሞ292sadf.jpg',\n",
       " 'un_resized_images/fidels/13/ሞ300sadf.jpg',\n",
       " 'un_resized_images/fidels/13/ለ138.jpg',\n",
       " 'un_resized_images/fidels/13/ለ130.jpg',\n",
       " 'un_resized_images/fidels/13/113.jpg',\n",
       " 'un_resized_images/fidels/13/ለ133.jpg',\n",
       " 'un_resized_images/fidels/13/ለ131.jpg',\n",
       " 'un_resized_images/fidels/13/115.jpg',\n",
       " 'un_resized_images/fidels/13/ለ136.jpg',\n",
       " 'un_resized_images/fidels/13/ሞ302sadf.jpg',\n",
       " 'un_resized_images/fidels/13/118.jpg',\n",
       " 'un_resized_images/fidels/13/ለ137.jpg',\n",
       " 'un_resized_images/fidels/13/ሞ306sadf.jpg',\n",
       " 'un_resized_images/fidels/13/ሞ304sadf.jpg',\n",
       " 'un_resized_images/fidels/13/ሞ305sadf.jpg',\n",
       " 'un_resized_images/fidels/13/121.jpg',\n",
       " 'un_resized_images/fidels/13/117.jpg',\n",
       " 'un_resized_images/fidels/13/ሞ295sadf.jpg',\n",
       " 'un_resized_images/fidels/13/ሞ293sadf.jpg']"
      ]
     },
     "execution_count": 3,
     "metadata": {},
     "output_type": "execute_result"
    }
   ],
   "source": [
    "glob.glob(path + '/*/*.jpg')"
   ]
  },
  {
   "cell_type": "code",
   "execution_count": 24,
   "metadata": {},
   "outputs": [
    {
     "name": "stdout",
     "output_type": "stream",
     "text": [
      "==================\n",
      " 411 411\n"
     ]
    }
   ],
   "source": [
    "all_files = glob.glob(path + '/*/*.jpg')\n",
    "X = []\n",
    "y = []\n",
    "\n",
    "for i in all_files:\n",
    "    #read in grayscale and convert to numpy array\n",
    "    X.append(np.array(Image.Image.convert(Image.open(i), 'L')))\n",
    "    y.append(int(i.split('/')[2]))\n",
    "        \n",
    "print('==================\\n', len(X), len(y))\n",
    "\n",
    "widths = []\n",
    "heights = []\n",
    "\n",
    "for i in X:\n",
    "    widths.append(i.shape[0])\n",
    "    heights.append(i.shape[1])\n"
   ]
  },
  {
   "cell_type": "code",
   "execution_count": 25,
   "metadata": {},
   "outputs": [
    {
     "data": {
      "text/plain": [
       "(array([438, 446]), array([ 0, 71]), array([410,   1]))"
      ]
     },
     "execution_count": 25,
     "metadata": {},
     "output_type": "execute_result"
    }
   ],
   "source": [
    "np.unique(widths, return_counts=True, return_index=True)"
   ]
  },
  {
   "cell_type": "code",
   "execution_count": 26,
   "metadata": {},
   "outputs": [
    {
     "data": {
      "text/plain": [
       "(438, 720)"
      ]
     },
     "execution_count": 26,
     "metadata": {},
     "output_type": "execute_result"
    }
   ],
   "source": [
    "X[71] = X[71][:438,:]\n",
    "\n",
    "X[71].shape"
   ]
  },
  {
   "cell_type": "code",
   "execution_count": 27,
   "metadata": {
    "collapsed": true
   },
   "outputs": [],
   "source": [
    "X = np.array(X).reshape(411,-1)\n"
   ]
  },
  {
   "cell_type": "code",
   "execution_count": 28,
   "metadata": {},
   "outputs": [
    {
     "data": {
      "text/plain": [
       "(411, 315360)"
      ]
     },
     "execution_count": 28,
     "metadata": {},
     "output_type": "execute_result"
    }
   ],
   "source": [
    "X.shape\n"
   ]
  },
  {
   "cell_type": "code",
   "execution_count": 333,
   "metadata": {},
   "outputs": [
    {
     "data": {
      "text/plain": [
       "dtype('int64')"
      ]
     },
     "execution_count": 333,
     "metadata": {},
     "output_type": "execute_result"
    }
   ],
   "source": [
    "y.dtype"
   ]
  },
  {
   "cell_type": "code",
   "execution_count": 290,
   "metadata": {},
   "outputs": [
    {
     "data": {
      "text/plain": [
       "array([0, 0, 0, 0, 0, 1, 0, 0, 0, 0, 0, 0, 0, 0])"
      ]
     },
     "execution_count": 290,
     "metadata": {},
     "output_type": "execute_result"
    }
   ],
   "source": [
    "temp = []\n",
    "for i in y:\n",
    "    row = [0]*14\n",
    "    row[i[0]-1] = 1\n",
    "    temp.append(row)\n",
    "temp = np.array(temp)\n",
    "temp[0]"
   ]
  },
  {
   "cell_type": "code",
   "execution_count": 330,
   "metadata": {
    "collapsed": true
   },
   "outputs": [],
   "source": [
    "num_classes = 14\n",
    "log = log_model(X, num_classes)\n"
   ]
  },
  {
   "cell_type": "code",
   "execution_count": 292,
   "metadata": {},
   "outputs": [
    {
     "name": "stdout",
     "output_type": "stream",
     "text": [
      "(411, 315360) (315360, 14) (14, 1)\n",
      "forward:  (14, 411)\n",
      "(14, 411)\n",
      "softmax:  (14, 411)\n",
      "loss:  3558.29437363\n"
     ]
    }
   ],
   "source": [
    "y = np.array(y).reshape(411,1)\n",
    "forward = log.forward(X)\n",
    "softmax = log.softmax(forward)\n",
    "loss = log.loss(softmax, temp)"
   ]
  },
  {
   "cell_type": "code",
   "execution_count": 304,
   "metadata": {},
   "outputs": [
    {
     "name": "stdout",
     "output_type": "stream",
     "text": [
      "a (14, 411) y (411, 14)\n",
      "der: (411, 14)\n",
      "dw:\n",
      "  [[ 0.  0.  0. ...,  0.  0.  0.]\n",
      " [ 0.  0.  0. ...,  0.  0.  0.]\n",
      " [ 0.  0.  0. ...,  0.  0.  0.]\n",
      " ..., \n",
      " [ 0.  0.  0. ...,  0.  0.  0.]\n",
      " [ 0.  0.  0. ...,  0.  0.  0.]\n",
      " [ 0.  0.  0. ...,  0.  0.  0.]]\n",
      "db: \n",
      " [[ 28.]\n",
      " [ 26.]\n",
      " [ 36.]\n",
      " [ 27.]\n",
      " [ 25.]\n",
      " [ 27.]\n",
      " [ 27.]\n",
      " [ 29.]\n",
      " [ 29.]\n",
      " [ 24.]\n",
      " [ 29.]\n",
      " [ 31.]\n",
      " [ 45.]\n",
      " [ 27.]]\n"
     ]
    }
   ],
   "source": [
    "dw, db = log.optimize(softmax, X, temp)\n",
    "\n",
    "\n",
    "\n"
   ]
  },
  {
   "cell_type": "code",
   "execution_count": 322,
   "metadata": {},
   "outputs": [
    {
     "data": {
      "text/plain": [
       "dtype('float64')"
      ]
     },
     "execution_count": 322,
     "metadata": {},
     "output_type": "execute_result"
    }
   ],
   "source": [
    "dw.dtype"
   ]
  },
  {
   "cell_type": "code",
   "execution_count": 295,
   "metadata": {},
   "outputs": [
    {
     "data": {
      "text/plain": [
       "(14, 1)"
      ]
     },
     "execution_count": 295,
     "metadata": {},
     "output_type": "execute_result"
    }
   ],
   "source": [
    "db.shape"
   ]
  },
  {
   "cell_type": "code",
   "execution_count": 305,
   "metadata": {},
   "outputs": [
    {
     "name": "stdout",
     "output_type": "stream",
     "text": [
      "updated w: \n",
      " [[ 0.  0.  0. ...,  0.  0.  0.]\n",
      " [ 0.  0.  0. ...,  0.  0.  0.]\n",
      " [ 0.  0.  0. ...,  0.  0.  0.]\n",
      " ..., \n",
      " [ 0.  0.  0. ...,  0.  0.  0.]\n",
      " [ 0.  0.  0. ...,  0.  0.  0.]\n",
      " [ 0.  0.  0. ...,  0.  0.  0.]]\n",
      "updated b: \n",
      " [[-0.28]\n",
      " [-0.26]\n",
      " [-0.36]\n",
      " [-0.27]\n",
      " [-0.25]\n",
      " [-0.27]\n",
      " [-0.27]\n",
      " [-0.29]\n",
      " [-0.29]\n",
      " [-0.24]\n",
      " [-0.29]\n",
      " [-0.31]\n",
      " [-0.45]\n",
      " [-0.27]]\n"
     ]
    }
   ],
   "source": [
    "log.update(0.01,dw,db)"
   ]
  },
  {
   "cell_type": "code",
   "execution_count": 331,
   "metadata": {
    "scrolled": false
   },
   "outputs": [
    {
     "name": "stdout",
     "output_type": "stream",
     "text": [
      "2773.2289207\n",
      "2839.08741966\n",
      "2839.08741966\n",
      "2839.08741966\n",
      "2839.08741966\n",
      "2839.08741966\n",
      "2839.08741966\n",
      "2839.08741966\n",
      "2839.08741966\n",
      "2839.08741966\n"
     ]
    }
   ],
   "source": [
    "for i in range(10):\n",
    "    forward = log.forward(X)\n",
    "    softmax = log.softmax(forward)\n",
    "    loss = log.loss(softmax, temp)\n",
    "    dw, db = log.optimize(softmax, X, temp)\n",
    "    log.update(0.01,dw,db)\n",
    "    print(loss)\n",
    "    "
   ]
  }
 ],
 "metadata": {
  "kernelspec": {
   "display_name": "Python 3",
   "language": "python",
   "name": "python3"
  },
  "language_info": {
   "codemirror_mode": {
    "name": "ipython",
    "version": 3
   },
   "file_extension": ".py",
   "mimetype": "text/x-python",
   "name": "python",
   "nbconvert_exporter": "python",
   "pygments_lexer": "ipython3",
   "version": "3.6.3"
  }
 },
 "nbformat": 4,
 "nbformat_minor": 2
}
